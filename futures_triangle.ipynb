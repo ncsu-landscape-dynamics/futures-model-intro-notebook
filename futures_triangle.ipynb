{
 "cells": [
  {
   "cell_type": "markdown",
   "metadata": {},
   "source": [
    "## DESCRIPTION\n",
    "\n",
    "_r.futures.*_ is an implementation of FUTure Urban-Regional\n",
    "Environment Simulation (FUTURES) which is a model for multilevel\n",
    "simulations of emerging urban-rural landscape structure. FUTURES\n",
    "produces regional projections of landscape patterns using coupled\n",
    "submodels that integrate nonstationary drivers of land change: per\n",
    "capita demand (DEMAND submodel), site suitability (POTENTIAL submodel),\n",
    "and the spatial structure of conversion events (PGA submodel).\n",
    "\n",
    "\n",
    "### Submodels\n",
    "\n",
    "  _DEMAND_\n",
    "  DEMAND estimates the rate of per capita land consumption\n",
    "  specific to each subregion. Projections of land consumption are based\n",
    "  on extrapolations between historical changes in population\n",
    "  and land conversion based on scenarios of future population growth.\n",
    "  How to construct the per capita demand relationship for subregions depends\n",
    "  on user's preferences and data availability.\n",
    "  Land area conversion over time can be derived for the USA, e.g.\n",
    "  from National Land Cover Dataset.\n",
    "  A possible implementation of the DEMAND submodel is available as module\n",
    "  _[r.futures.demand](r.futures.demand.html)_.\n",
    "\n",
    "  _POTENTIAL_\n",
    "  The POTENTIAL submodel uses site suitability modeling approaches\n",
    "  to quantify spatial gradients of land development potential.\n",
    "  The model uses multilevel logistic regression to\n",
    "  account for hierarchical characteristics of the land use system\n",
    "  (variation among jurisdictional structures) and\n",
    "  account for divergent relationships between predictor and response variables.\n",
    "  To generate a binary, developed-undeveloped response variable\n",
    "  using a stratified-random sample,\n",
    "  see module _[r.sample.category](r.sample.category.html)_.\n",
    "  The coefficients for the statistical model that are used to\n",
    "  calculate the value of development potential can be derived in different ways,\n",
    "  one possible implementation using R will be available\n",
    "  as module _r.futures.potential_.\n",
    "  One of the predictor variables is development pressure (computed using\n",
    "  _[r.futures.devpressure](r.futures.devpressure.html)_)\n",
    "  which is updated each step and thus creates positive feedback\n",
    "  resulting in new development attracting even more development.\n",
    "  \n",
    "\n",
    "  _PGA_\n",
    "  Patch-Growing Algorithm is a stochastic algorithm, which\n",
    "  simulates undeveloped to developed land change by iterative site selection\n",
    "  and a contextually aware region growing mechanism.\n",
    "  Simulations of change at each time step feed development pressure back\n",
    "  to the POTENTIAL submodel, influencing site suitability for the next step.\n",
    "  PGA is implemented in [r.futures.pga](r.futures.pga.html).\n",
    "\n",
    "\n",
    "\n",
    "\n"
   ]
  },
  {
   "cell_type": "markdown",
   "metadata": {},
   "source": [
    "### Intro to Jupyter Notebook"
   ]
  },
  {
   "cell_type": "code",
   "execution_count": null,
   "metadata": {
    "collapsed": true
   },
   "outputs": [],
   "source": [
    "# This is a quick introduction into Jupyter Notebook.\n",
    "# Python code can be executed like this:\n",
    "a = 6\n",
    "b = 7\n",
    "c = a * b\n",
    "print(\"Answer is\", c)\n",
    "# Python code can be mixed with command line code (Bash).\n",
    "# It is enough just to prefix the command line with an exclamation mark:\n",
    "!echo \"Answer is $c\"\n",
    "# Use Shift+Enter to execute this cell. The result is below."
   ]
  },
  {
   "cell_type": "markdown",
   "metadata": {},
   "source": [
    "### Setting up GRASS GIS session\n"
   ]
  },
  {
   "cell_type": "code",
   "execution_count": null,
   "metadata": {
    "collapsed": true
   },
   "outputs": [],
   "source": [
    "import os\n",
    "import sys\n",
    "import subprocess\n",
    "from IPython.display import Image\n",
    "\n",
    "# create GRASS GIS runtime environment\n",
    "gisbase = subprocess.check_output([\"grass\", \"--config\", \"path\"], text=True).strip()\n",
    "os.environ['GISBASE'] = gisbase\n",
    "sys.path.append(os.path.join(gisbase, \"etc\", \"python\"))\n",
    "\n",
    "# do GRASS GIS imports\n",
    "import grass.script as gs\n",
    "import grass.script.setup as gsetup\n",
    "\n",
    "# set GRASS GIS session data\n",
    "rcfile = gsetup.init(gisbase, \"data/grassdata\", \"futures_triangle_nc\", \"workshop_US_IALE_2019\")\n",
    "# default font displays\n",
    "os.environ['GRASS_FONT'] = 'sans'\n",
    "# overwrite existing maps\n",
    "os.environ['GRASS_OVERWRITE'] = '1'\n",
    "gs.set_raise_on_error(True)\n",
    "gs.set_capture_stderr(True)\n",
    "# set display modules to render into a file (named map.png by default)\n",
    "os.environ['GRASS_RENDER_IMMEDIATE'] = 'cairo'\n",
    "os.environ['GRASS_RENDER_FILE_READ'] = 'TRUE'\n",
    "os.environ['GRASS_LEGEND_FILE'] = 'legend.txt'"
   ]
  },
  {
   "cell_type": "markdown",
   "metadata": {},
   "source": [
    "## Initial steps and data preparation\n",
    "First we will set the computational region of our analyses to an extent covering our study area that aligns with our base landuse rasters. "
   ]
  },
  {
   "cell_type": "code",
   "execution_count": null,
   "metadata": {
    "collapsed": true
   },
   "outputs": [],
   "source": [
    "gs.run_command('g.region', raster='landuse_2011', flags='p')"
   ]
  },
  {
   "cell_type": "markdown",
   "metadata": {},
   "source": [
    "The FUTURES model uses the locations of development and new development to predict when and where new urban growth will occur. This requires longitudinal data on urban land use. We will derive urbanized areas from NLCD dataset for year 1992, 2001, 2006 and 2011 by extracting categories category 21 - 24 into a new binary map where developed is 1, undeveloped 0 and NULL (no data). The NULL area is important in simulating urban growth as it precludes these are from becoming development. For this exercise we assume that water, wetlands and protected areas can not be developed, setting them to NULL.\n",
    "\n",
    "First we will convert protected areas from vector to raster. We set NULLs to zeros (for simpler raster algebra expression in the next step) using r.null. Copy line by line into GUI command console and press Enter after each command."
   ]
  },
  {
   "cell_type": "code",
   "execution_count": null,
   "metadata": {
    "collapsed": true
   },
   "outputs": [],
   "source": [
    "gs.run_command('v.to.rast', input='protected_areas', output='protected_areas', use='val')\n",
    "gs.run_command('r.null', map='protected_areas', null=0)"
   ]
  },
  {
   "cell_type": "markdown",
   "metadata": {},
   "source": [
    "And then create rasters of developed/undeveloped areas using raster algebra:"
   ]
  },
  {
   "cell_type": "code",
   "execution_count": null,
   "metadata": {
    "collapsed": true
   },
   "outputs": [],
   "source": [
    "gs.mapcalc(\"urban_1992 = if(landuse_1992 >= 20 && landuse_1992 <= 24, 1, if(landuse_1992 == 11 || landuse_1992 >= 90 || protected_areas, null(), 0))\")\n",
    "gs.mapcalc(\"urban_2001 = if(landuse_2001 >= 21 && landuse_2001 <= 24, 1, if(landuse_2001 == 11 || landuse_2001 >= 90 || protected_areas, null(), 0))\")\n",
    "gs.mapcalc(\"urban_2006 = if(landuse_2006 >= 21 && landuse_2006 <= 24, 1, if(landuse_2006 == 11 || landuse_2006 >= 90 || protected_areas, null(), 0))\")\n",
    "gs.mapcalc(\"urban_2011 = if(landuse_2011 >= 21 && landuse_2011 <= 24, 1, if(landuse_2011 == 11 || landuse_2011 >= 90 || protected_areas, null(), 0))\")"
   ]
  },
  {
   "cell_type": "markdown",
   "metadata": {},
   "source": [
    "FUTURES is a multi-level modelling framework meaning that we model population projections for subregions and assume that these subregions are influenced differently by the factors that influence where development happens. This requires defining subregions for model implementation. For this exercise we use the county level, which is the finest scale of population data that is available to us. We therefore need to convert vectors of counties to a raster with the values of the FIPS attribute which links to population file:\n"
   ]
  },
  {
   "cell_type": "code",
   "execution_count": null,
   "metadata": {
    "collapsed": true
   },
   "outputs": [],
   "source": [
    "gs.run_command('v.to.rast', input='counties', type='area', use='attr', attribute_column='value', output='counties')"
   ]
  },
  {
   "cell_type": "markdown",
   "metadata": {},
   "source": [
    "Before further steps, we will set our working directory so that the input population files and text files we are going to create in the following section are saved in one directory and easily accessible. You can do that from menu Settings → GRASS working environment → Change working directory. Select (or create) a directory and move there the downloaded files population_projection.csv and population_trend.csv."
   ]
  },
  {
   "cell_type": "markdown",
   "metadata": {},
   "source": [
    "## Potential submodel\n",
    "Module r.futures.potential implements the POTENTIAL submodel as a part of FUTURES land change model. POTENTIAL is implemented using a set of coefficients that relate a selection of site suitability factors to the probability of a place becoming developed. This is implemented using the parameter table in combination with maps of those site suitability factors (mapped predictors). The coefficients are obtained by conducting multilevel logistic regression in R with package lme4 where the coefficients may vary by county. The best model is selected automatically using dredge function from package MuMIn.\n",
    "\n",
    "First, we will derive possible predictors of urban growth using GRASS modules.\n",
    "\n",
    "### Predictors\n",
    "##### Slope\n",
    "Slope possibly influences urban growth as steep areas are difficult to build on. We will derive slope in degrees from digital elevation model using r.slope.aspect module:"
   ]
  },
  {
   "cell_type": "code",
   "execution_count": null,
   "metadata": {
    "collapsed": true
   },
   "outputs": [],
   "source": [
    "gs.run_command('r.slope.aspect', elevation=\"elevation_30m\", slope=\"slope\")"
   ]
  },
  {
   "cell_type": "markdown",
   "metadata": {},
   "source": [
    "#### Distance from lakes/rivers\n",
    "Distance to lakes or rivers may contribute to an amenity draw where people would like to build a house in a location where they can view water. First we will extract category Open Water from 2011 NLCD dataset:"
   ]
  },
  {
   "cell_type": "code",
   "execution_count": null,
   "metadata": {
    "collapsed": true
   },
   "outputs": [],
   "source": [
    "gs.mapcalc(\"water = if(landuse_2011 == 11, 1, null())\")"
   ]
  },
  {
   "cell_type": "markdown",
   "metadata": {},
   "source": [
    "Then we compute the distance to water with module r.grow.distance and set color table to shades of blue:"
   ]
  },
  {
   "cell_type": "code",
   "execution_count": null,
   "metadata": {
    "collapsed": true
   },
   "outputs": [],
   "source": [
    "gs.run_command('r.grow.distance', input='water', distance='dist_to_water')\n",
    "gs.run_command('r.colors', flags='en', map='dist_to_water', color='blues')"
   ]
  },
  {
   "cell_type": "markdown",
   "metadata": {},
   "source": [
    "#### Distance from protected areas\n",
    "Like water protected areas can attract urban growth as people enjoy living near scenic areas. We will use raster protected of protected areas we already created, but we will set NULL values to zero. We compute the distance to protected areas with module r.grow.distance and set color table from green to red:"
   ]
  },
  {
   "cell_type": "code",
   "execution_count": null,
   "metadata": {
    "collapsed": true
   },
   "outputs": [],
   "source": [
    "gs.run_command('r.null', map='protected_areas', setnull=0)\n",
    "gs.run_command('r.grow.distance', input='protected_areas', distance='dist_to_protected')\n",
    "gs.run_command('r.colors', map='dist_to_protected', color='gyr', flags='e')"
   ]
  },
  {
   "cell_type": "markdown",
   "metadata": {},
   "source": [
    "#### Forests\n",
    "Forest may influence urban growth in different ways. On the one hand it might be costly for developments as tree will need to be removed. On the other hand, people may want to live near forests. We calculate the percentage forest for a 0.5 km pixel to test forest influence, see NLCD categories Forest. We derive the percentage of forest also for year 1992."
   ]
  },
  {
   "cell_type": "code",
   "execution_count": null,
   "metadata": {
    "collapsed": true
   },
   "outputs": [],
   "source": [
    "gs.mapcalc(\"forest = if(landuse_2011 >= 41 && landuse_2011 <= 43, 1, 0)\")\n",
    "gs.mapcalc(\"forest_1992 = if(landuse_1992 >= 40 && landuse_1992 <= 43, 1, 0)\")\n",
    "gs.run_command('r.neighbors', flags='c', input='forest', output='forest_smooth', size=15, method='average')\n",
    "gs.run_command('r.neighbors', flags='c', input='forest_1992', output='forest_1992_smooth', size=15, method='average')\n",
    "gs.run_command('r.colors', map='forest_smooth,forest_1992_smooth', color='ndvi')"
   ]
  },
  {
   "cell_type": "markdown",
   "metadata": {},
   "source": [
    "#### Distance to main urban centers\n",
    "Concentrated population and economic activities around main urban centers are important drivers of development. To calculate this influence we will compute distance to urban centers with more than 200,000 inhabitants:"
   ]
  },
  {
   "cell_type": "code",
   "execution_count": null,
   "metadata": {
    "collapsed": true
   },
   "outputs": [],
   "source": [
    "gs.run_command('r.grow.distance', input='city_center', distance='dist_to_city_center')"
   ]
  },
  {
   "cell_type": "markdown",
   "metadata": {},
   "source": [
    "#### Road density\n",
    "Dense road construction often occurs in suburban areas where much much development occurs in U.S. cities. To capture this influence we can calculate road density based on the road network. We rasterize roads and use a moving window analysis (r.neighbors) to compute road density for a 1 km area:"
   ]
  },
  {
   "cell_type": "code",
   "execution_count": null,
   "metadata": {
    "collapsed": true
   },
   "outputs": [],
   "source": [
    "gs.run_command('r.neighbors', flags='c', input='roads', output='road_dens', size=25, method='average')"
   ]
  },
  {
   "cell_type": "markdown",
   "metadata": {},
   "source": [
    "### Development pressure\n",
    "\n",
    "Development pressure (computed by r.futures.devpressure) visualized as 3D surface with binary development map draped as color (orange developed, grey undeveloped).\n",
    "Development pressure is an important variable in the FUTURES model that is always included as a dynamic variable reinforcing the pressure of past development. We assume that urban development in one location will increase the chance of development in near proximity. New simulated development is incorporated into calculating this development pressure every time step that FUTURES simulates urban growth. To estimate the influence that this local development pressure has, we include the development pressure r.futures.devpressure in our initial model estimates. Development pressure is based on number of neighboring developed cells within a specified search distance, weighted by distance. Its special role in the model allows for path dependent feedback between predicted change and change in subsequent steps.\n",
    "\n",
    "When gamma increases, development influence decreases more rapidly with distance. Size is half the size of the moving window. When gamma is low, local development influences more distant places. We compute development pressure for development in 1992 for Potential model to estimate how much development pressure influenced new development between 1992 and 2011. Then, we compute it also for 2011 for future projections."
   ]
  },
  {
   "cell_type": "code",
   "execution_count": null,
   "metadata": {
    "collapsed": true
   },
   "outputs": [],
   "source": [
    "gs.run_command('r.null', map='urban_2011', null=0)\n",
    "gs.run_command('r.null', map='urban_1992', null=0)\n",
    "gs.run_command('r.futures.devpressure', flags='n', input='urban_1992', output='devpressure_30_05_01_92 ',\n",
    "               method='gravity', size=30, gamma=0.5, scaling_factor=0.1)\n",
    "gs.run_command('r.futures.devpressure', flags='n', input='urban_2011', output='devpressure_30_05_01_2011',\n",
    "               method='gravity', size=30, gamma=0.5, scaling_factor=0.1)"
   ]
  },
  {
   "cell_type": "code",
   "execution_count": null,
   "metadata": {
    "collapsed": true
   },
   "outputs": [],
   "source": [
    "# end the GRASS session\n",
    "os.remove(rcfile)"
   ]
  }
 ],
 "metadata": {
  "kernelspec": {
   "display_name": "Python 3",
   "language": "python",
   "name": "python3"
  },
  "language_info": {
   "codemirror_mode": {
    "name": "ipython",
    "version": 2
   },
   "file_extension": ".py",
   "mimetype": "text/x-python",
   "name": "python",
   "nbconvert_exporter": "python",
   "pygments_lexer": "ipython2",
   "version": "2.7.12"
  }
 },
 "nbformat": 4,
 "nbformat_minor": 1
}
